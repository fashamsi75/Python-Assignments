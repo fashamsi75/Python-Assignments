{
 "cells": [
  {
   "cell_type": "markdown",
   "metadata": {},
   "source": [
    "# Assignment-1 Batch 2 - Core Python  "
   ]
  },
  {
   "cell_type": "markdown",
   "metadata": {},
   "source": [
    "# Prepared by- Furqan Ahmed Shamsi"
   ]
  },
  {
   "cell_type": "markdown",
   "metadata": {},
   "source": [
    "# Roll-No-1121"
   ]
  },
  {
   "cell_type": "code",
   "execution_count": 1,
   "metadata": {},
   "outputs": [
    {
     "name": "stdout",
     "output_type": "stream",
     "text": [
      "Twinkle, twinkle, little star,\n",
      "\tHow I wonder what you are!\n",
      "\t\tUp above the world so high,\n",
      "\t\tLike a diamond in the sky.\n",
      "Twinkle, twinkle, little star,\n",
      "\tHow I wonder what you are\n"
     ]
    }
   ],
   "source": [
    "print(\"Twinkle, twinkle, little star,\\n\\t\"\n",
    "      \"How I wonder what you are!\\n\\t\\t\"\n",
    "      \"Up above the world so high,\\n\\t\\t\"\n",
    "      \"Like a diamond in the sky.\\n\"\n",
    "      \"Twinkle, twinkle, little star,\\n\\t\"\n",
    "      \"How I wonder what you are\")"
   ]
  },
  {
   "cell_type": "code",
   "execution_count": 2,
   "metadata": {},
   "outputs": [
    {
     "name": "stdout",
     "output_type": "stream",
     "text": [
      "3.6.3 |Anaconda, Inc.| (default, Oct 13 2017, 12:02:49) \n",
      "[GCC 7.2.0]\n"
     ]
    }
   ],
   "source": [
    "# Simplest way to display Python Version is:\n",
    "# python -V  or python --version on cmd\n",
    "\n",
    "# You can also get version by importing sys library\n",
    "import sys\n",
    "print(sys.version)\n"
   ]
  },
  {
   "cell_type": "code",
   "execution_count": 3,
   "metadata": {},
   "outputs": [
    {
     "name": "stdout",
     "output_type": "stream",
     "text": [
      "Today's date: 03 November,2019\n",
      "Its : 10:54\n"
     ]
    }
   ],
   "source": [
    "import os , datetime\n",
    "from datetime import date, datetime\n",
    "\n",
    "# There might be multiple ways , I prefer\n",
    "\n",
    "today = date.today()\n",
    "print(\"Today's date:\", today.strftime('%d %B,20%y'))\n",
    "\n",
    "time = datetime.now()\n",
    "print(\"Its :\", time.strftime('%H:%M'))"
   ]
  },
  {
   "cell_type": "code",
   "execution_count": 7,
   "metadata": {},
   "outputs": [
    {
     "name": "stdout",
     "output_type": "stream",
     "text": [
      "Please Enter the radius of the desired circle :10\n",
      "The area of the Circle is : 628.4\n",
      "Please Enter the radius of the desired circle :10\n",
      "The area of the Circle is : 628.3185307179587\n"
     ]
    }
   ],
   "source": [
    "# The most simple method is:\n",
    "pi = 3.142\n",
    "r = float(input(\"Please Enter the radius of the desired circle :\"))\n",
    "area = 2*pi*r*r\n",
    "print(\"The area of the Circle is :\", area)\n",
    "\n",
    "\n",
    "#Alternative method is:\n",
    "from math import pi\n",
    "\n",
    "r = float(input(\"Please Enter the radius of the desired circle :\"))\n",
    "area = 2*pi*r*r\n",
    "print(\"The area of the Circle is :\", area)\n",
    "\n",
    "\n",
    "\n"
   ]
  },
  {
   "cell_type": "code",
   "execution_count": 5,
   "metadata": {},
   "outputs": [
    {
     "name": "stdout",
     "output_type": "stream",
     "text": [
      "Please Enter Your First Name :Furqan\n",
      "Please Enter Your Last Name :Shamsi\n",
      "Your Name is : Shamsi Furqan\n",
      "oops! Sorry my mistake...It seems I just printed your name, in reverse order\n"
     ]
    }
   ],
   "source": [
    "# Printing Names in Reverse Order\n",
    "First_name = input(\"Please Enter Your First Name :\")\n",
    "Last_name = input(\"Please Enter Your Last Name :\")\n",
    "Full_Name = Last_name + ' '+ First_name\n",
    "\n",
    "print(\"Your Name is :\" ,Full_Name)\n",
    "print(\"oops! Sorry my mistake...It seems I just printed your name, in reverse order\")\n",
    "      "
   ]
  },
  {
   "cell_type": "code",
   "execution_count": 6,
   "metadata": {},
   "outputs": [
    {
     "name": "stdout",
     "output_type": "stream",
     "text": [
      "Please Enter a Number of Your Choice :2\n",
      "Please add another number to sum :3\n",
      "The sum of two numbers is : 5.0\n"
     ]
    }
   ],
   "source": [
    "# Addition in Python\n",
    "\n",
    "First_num = float(input(\"Please Enter a Number of Your Choice :\"))\n",
    "Second_num = float(input(\"Please add another number to sum :\"))\n",
    "Result = First_num + Second_num\n",
    "\n",
    "print(\"The sum of two numbers is :\", round(Result,2))"
   ]
  },
  {
   "cell_type": "code",
   "execution_count": null,
   "metadata": {
    "collapsed": true
   },
   "outputs": [],
   "source": []
  },
  {
   "cell_type": "code",
   "execution_count": null,
   "metadata": {
    "collapsed": true
   },
   "outputs": [],
   "source": []
  },
  {
   "cell_type": "code",
   "execution_count": null,
   "metadata": {
    "collapsed": true
   },
   "outputs": [],
   "source": []
  },
  {
   "cell_type": "code",
   "execution_count": null,
   "metadata": {
    "collapsed": true
   },
   "outputs": [],
   "source": []
  }
 ],
 "metadata": {
  "kernelspec": {
   "display_name": "Python 3",
   "language": "python",
   "name": "python3"
  },
  "language_info": {
   "codemirror_mode": {
    "name": "ipython",
    "version": 3
   },
   "file_extension": ".py",
   "mimetype": "text/x-python",
   "name": "python",
   "nbconvert_exporter": "python",
   "pygments_lexer": "ipython3",
   "version": "3.6.3"
  }
 },
 "nbformat": 4,
 "nbformat_minor": 2
}
