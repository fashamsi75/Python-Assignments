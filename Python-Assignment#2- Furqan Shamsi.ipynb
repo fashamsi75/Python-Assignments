{
 "cells": [
  {
   "cell_type": "markdown",
   "metadata": {
    "collapsed": true
   },
   "source": [
    "# Assignment-2 Batch 2 - Core Python  "
   ]
  },
  {
   "cell_type": "markdown",
   "metadata": {
    "collapsed": true
   },
   "source": [
    "# Prepared by- Furqan Ahmed Shamsi  Roll-No-1121"
   ]
  },
  {
   "cell_type": "code",
   "execution_count": 10,
   "metadata": {},
   "outputs": [
    {
     "name": "stdout",
     "output_type": "stream",
     "text": [
      "                              A SIMPLE MARKSHEET PROGRAM  BY  FURQAN AHMED SHAMSI(Roll-#1121)                                 \n",
      "*******************************************************************************************************************\n",
      "Enter Marks in English -- / 100     : 10\n",
      "Enter Marks in Urdu -- / 100     : 20\n",
      "Enter Marks in Maths -- / 100     : 30\n",
      "Enter Marks in Islamiat -- / 100     : 40\n",
      "Enter Marks in Science -- / 100     : 50\n",
      "*******************************************************************************************************************\n",
      "Dear Student, Sorry! You have obtained 150 marks out of 500. Your Percentage is 30.0% and Your Grade is Fail \n",
      "*******************************************************************************************************************\n"
     ]
    }
   ],
   "source": [
    "#Trying to make a simple dynamic 'Market Sheet' Program in Python\n",
    "# First I am defining subjects in a list\n",
    "\n",
    "subjects = [\"English\",\"Urdu\", \"Maths\", \"Islamiat\",\"Science\"]\n",
    "\n",
    "def drawline():  # simple function to drawline\n",
    "    print(\"*\"*115)\n",
    "\n",
    "marks = 0  #marks is variable that store 'marks obtained in a subject'\n",
    "total = 0  #Total being total of marks,...initializing marks and total\n",
    "allmarks = [ ] #Empty list that will be used for storing marks in a list. This would be useful in future.\n",
    "remarks = \"Congradulations!\"  #initial value of remarks , in case of failure it will be changed\n",
    "\n",
    "print(\"                              A SIMPLE MARKSHEET PROGRAM  BY  FURQAN AHMED SHAMSI(Roll-#1121)                                 \")\n",
    "drawline()\n",
    "\n",
    "for subject in subjects: # for each subject in the list of predefined subjects\n",
    "    marks = int(input(\"Enter Marks in {0} -- / 100     : \".format(subject))) #Input marks achieved in a subject\n",
    "    allmarks.append(marks) #remember allmarks is the list of marks\n",
    "    total += marks\n",
    "\n",
    "drawline()\n",
    "# max_marks is a variable which the stores     \n",
    "max_marks = int(100 * len(subjects)) # assuming that each subject contains 100 marks\n",
    "percentage = round((total/max_marks) * 100,2)  \n",
    "\n",
    "\n",
    "\n",
    "\n",
    "if percentage >= 90:\n",
    "    Grade = \"A\"\n",
    "elif percentage >=80:\n",
    "    Grade = \"B\"\n",
    "elif percentage >=70:\n",
    "    Grade = \"C\"\n",
    "else:\n",
    "    Grade = \"Fail\"\n",
    "    remarks = \"Sorry!\"   \n",
    "    \n",
    "print(\"Dear Student, {0} You have obtained {1} marks out of {2}. Your Percentage is {3}% and Your Grade is {4} \".format(remarks,total,max_marks ,percentage,Grade))\n",
    " \n",
    "drawline()\n",
    "    \n",
    "    \n",
    "    \n",
    "    \n",
    "   \n",
    "           \n",
    "    "
   ]
  },
  {
   "cell_type": "code",
   "execution_count": 11,
   "metadata": {},
   "outputs": [
    {
     "name": "stdout",
     "output_type": "stream",
     "text": [
      "Please Enter a number    :2022\n",
      "let me guess.........\n",
      "2022, is an Even number\n"
     ]
    }
   ],
   "source": [
    "# Even/Odd\n",
    "\n",
    "Guess_Odd_Even = int(input(\"Please Enter a number    :\"))\n",
    "print(\"let me guess.........\")\n",
    "if (Guess_Odd_Even % 2) == 0:  #Condition to check whether number is odd or even.\n",
    "    print(\"{0}, is an Even number\".format(Guess_Odd_Even))\n",
    "else:\n",
    "    print(\"{0}, is an Odd number\".format(Guess_Odd_Even))\n",
    "                          \n",
    "                     "
   ]
  },
  {
   "cell_type": "code",
   "execution_count": 12,
   "metadata": {},
   "outputs": [
    {
     "name": "stdout",
     "output_type": "stream",
     "text": [
      "Write any thing to fill up the list    :qwer\n",
      "Do You want to Continue?\n",
      "\n",
      "....Press Y to Continue, any other key to Abort....\ty\n",
      "Write any thing to fill up the list    :ast\n",
      "Do You want to Continue?\n",
      "\n",
      "....Press Y to Continue, any other key to Abort....\tpewr\n",
      "\n",
      "Your list contains.., 2 element(s)\n",
      "\t\n",
      "Here is your list : ['qwer', 'ast']\n"
     ]
    }
   ],
   "source": [
    "#Printing the length of list\n",
    "\n",
    "list_ =[]  # define an empty list\n",
    "while True: #loop to add / Continue with addition in list\n",
    "    Fill_in_list = input(\"Write any thing to fill up the list    :\") #input item to add to list\n",
    "    list_.append(Fill_in_list) # adding items to list\n",
    "    Choice = input (\"Do You want to Continue?\\n\\n\"\"....Press Y to Continue, any other key to Abort....\\t\")\n",
    "    if Choice == \"Y\" or Choice == \"y\":\n",
    "        continue\n",
    "    else:\n",
    "        break\n",
    "    \n",
    "print(\"\\nYour list contains..,\" ,len(list_) ,\"element(s)\\n\\t\" ) # finding the length of items in list\n",
    "print(\"Here is your list :\",list_)      \n",
    "      \n",
    "        \n",
    "    "
   ]
  },
  {
   "cell_type": "code",
   "execution_count": null,
   "metadata": {},
   "outputs": [],
   "source": [
    "# Sum of Items in a list\n",
    "list_numeric = [] #empty list that hold elements after input\n",
    "while True: # Again a while loop...\n",
    "    x=int(input(\"Please enter a number to add to the list..\")) # we are seeking numeric inputs\n",
    "    list_numeric.append(x)      \n",
    "    if len(list_numeric) >= 10: #we are limiting our list to 10 elements to make our program simple\n",
    "        break\n",
    "\n",
    "total = 0        \n",
    "print (\"\\nHere is the list You have Just Created :\",list_numeric)      \n",
    "for i in list_numeric:\n",
    "    total+=i\n",
    "    \n",
    "print(\"\\nHere is the sum of all numeric values in th list :\",total)\n",
    "       "
   ]
  },
  {
   "cell_type": "code",
   "execution_count": 16,
   "metadata": {},
   "outputs": [
    {
     "name": "stdout",
     "output_type": "stream",
     "text": [
      "How many elements should this list contain: 5\n",
      "Enter a number to add to your list  :12\n",
      "Enter a number to add to your list  :23\n",
      "Enter a number to add to your list  :45\n",
      "Enter a number to add to your list  :56\n",
      "Enter a number to add to your list  :56\n",
      "\n",
      "****Here is the list you have just created ===> [12, 23, 45, 56, 56]\n",
      "\n",
      "Maximum element in the list is : 56 \n",
      "Minimum element in the list is : 12\n"
     ]
    }
   ],
   "source": [
    "# Finding the largest number in the list\n",
    "# We would also try to find the minimum number in this list\n",
    "\n",
    "new_list = [] # This is an empty list\n",
    "size = int(input('How many elements should this list contain: ')) #how many elements this list should contain\n",
    "\n",
    "for n in range(size):\n",
    "    num = int(input('Enter a number to add to your list  :'))\n",
    "    new_list.append(num)\n",
    "   \n",
    "print(\"\\n****Here is the list you have just created ===>\",new_list)    \n",
    "print(\"\\nMaximum element in the list is :\", max(new_list), \"\\nMinimum element in the list is :\", min(new_list))\n",
    "\n"
   ]
  },
  {
   "cell_type": "code",
   "execution_count": 17,
   "metadata": {},
   "outputs": [
    {
     "name": "stdout",
     "output_type": "stream",
     "text": [
      "Hey I found a number that is less than 5 it is:\t 1\n",
      "Hooray! I am adding 1 to my new list\n",
      "\n",
      "Hey I found a number that is less than 5 it is:\t 1\n",
      "Hooray! I am adding 1 to my new list\n",
      "\n",
      "Hey I found a number that is less than 5 it is:\t 2\n",
      "Hooray! I am adding 2 to my new list\n",
      "\n",
      "Hey I found a number that is less than 5 it is:\t 3\n",
      "Hooray! I am adding 3 to my new list\n",
      "\n",
      "Look!I have found 4 elements after searching the entire list  : [1, 1, 2, 3]\n"
     ]
    }
   ],
   "source": [
    "# Finding all numbers that are less than 5 in this list.\n",
    "b= []    \n",
    "a = [1, 1, 2, 3, 5, 8, 13, 21, 34, 55, 89]\n",
    "for i in a:\n",
    "    if i < 5:\n",
    "        print(\"Hey I found a number that is less than 5 it is:\\t\", i)\n",
    "        print(\"Hooray! I am adding {0} to my new list\\n\".format(i))\n",
    "        b.append(i)\n",
    "        \n",
    "    else:\n",
    "        continue\n",
    "        \n",
    "print(\"Look!I have found {0} elements after searching the entire list  :\".format(len(b)) ,b)"
   ]
  },
  {
   "cell_type": "code",
   "execution_count": null,
   "metadata": {
    "collapsed": true
   },
   "outputs": [],
   "source": []
  },
  {
   "cell_type": "code",
   "execution_count": null,
   "metadata": {
    "collapsed": true
   },
   "outputs": [],
   "source": []
  },
  {
   "cell_type": "code",
   "execution_count": null,
   "metadata": {
    "collapsed": true
   },
   "outputs": [],
   "source": []
  }
 ],
 "metadata": {
  "kernelspec": {
   "display_name": "Python 3",
   "language": "python",
   "name": "python3"
  },
  "language_info": {
   "codemirror_mode": {
    "name": "ipython",
    "version": 3
   },
   "file_extension": ".py",
   "mimetype": "text/x-python",
   "name": "python",
   "nbconvert_exporter": "python",
   "pygments_lexer": "ipython3",
   "version": "3.6.3"
  }
 },
 "nbformat": 4,
 "nbformat_minor": 2
}
