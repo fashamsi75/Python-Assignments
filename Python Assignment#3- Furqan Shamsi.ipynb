{
 "cells": [
  {
   "cell_type": "markdown",
   "metadata": {},
   "source": [
    "# Assignment-3  Batch 2 - Core Python  \n"
   ]
  },
  {
   "cell_type": "markdown",
   "metadata": {},
   "source": [
    "# Prepared by- Furqan Ahmed Shamsi\n"
   ]
  },
  {
   "cell_type": "markdown",
   "metadata": {},
   "source": [
    "# Roll-No-PY01121"
   ]
  },
  {
   "cell_type": "code",
   "execution_count": 12,
   "metadata": {},
   "outputs": [
    {
     "name": "stdout",
     "output_type": "stream",
     "text": [
      "Enter a number of your choice :2000\n",
      "\tChoose a mathmatical  operation to perform e.g. for addition choose \"+\"   : *\n",
      "Enter the another number :17\n",
      "\n",
      "Hi, You choose 2000.0 and 17.0 to multiply. The result is 34000.0 .Thankyou for using this app\n"
     ]
    }
   ],
   "source": [
    "# A Simple Calculator\n",
    "# let us choose which mathmatical operations to perform\n",
    "# we are using a variable op which stores operators\n",
    "op = (\"*\" ,\"/\",  \"+\", \"-\") # I have used tuple, because I don't want to modify current operators\n",
    "c = \"operate\" # let us choose which mathmatical operations to perform\n",
    "              # c has a default value of 'operate' which is modified depending on the choice of operation.\n",
    "    \n",
    "# let's take our first input, we are keeping the type float \n",
    "\n",
    "x = float(input(\"Enter a number of your choice :\"))\n",
    "\n",
    "# Now what do you want to do with this number,add, subtract, multiply or divide \n",
    "\n",
    "choice = input('\\tChoose a mathmatical  operation to perform e.g. for addition choose \"+\"   : ')\n",
    "if choice in op:  # check if your operation is valid or not\n",
    "    y = float(input(\"Enter the another number :\"))        # after successfully selecting the operation, select another number\n",
    "    \n",
    "    if choice == \"*\":                         # if choice is multiplication\n",
    "            c = \"multiply\"\n",
    "            z = round(x*y,1)\n",
    "            \n",
    "    elif choice == \"/\":                       # if choice is division\n",
    "            c = \"divide\"\n",
    "            z = round(x/y,1)\n",
    "            \n",
    "    elif choice == \"+\":                       # if choice is addition\n",
    "            c = \"add\"\n",
    "            z= round(x+y,1)\n",
    "        \n",
    "    elif choice == \"-\":                       # if choice is subtraction\n",
    "            c = \"subtract\"\n",
    "            z= round(x-y,1)\n",
    "    else:\n",
    "             print(\"Sorry! Invalid operation\")\n",
    "else:\n",
    "    print(\"Invalid operator selected, Aborting!!!\")\n",
    "                    \n",
    "                           \n",
    "print(\"\\nHi, You choose {0} and {1} to {2}. The result is {3}\". format(x, y, c,  z),\".Thankyou for using this app\" )\n"
   ]
  },
  {
   "cell_type": "code",
   "execution_count": 13,
   "metadata": {},
   "outputs": [
    {
     "name": "stdout",
     "output_type": "stream",
     "text": [
      "Only these values in list A are numeric ['1', '899']\n"
     ]
    }
   ],
   "source": [
    "#Checking Numeric Value in a list\n",
    "# let us define a simple list\n",
    "\n",
    "A = [\"1\", \"4D\", \"A\", \"B\", \"CAT\", \"BAT\", \"9A0\", \"899\"]\n",
    "\n",
    "# In Python, one method to identify a numeric value is 'isdigit()'\n",
    "# This is a string method and only returns a True value if all elements in a string value are numeric\n",
    "\n",
    "B = [i for i in A if i.isdigit()] # return i, for i in list A if it is numeric and store it in new list B.\n",
    "\n",
    "print('Only these values in list A are numeric',B)\n",
    "   \n",
    "    "
   ]
  },
  {
   "cell_type": "code",
   "execution_count": 14,
   "metadata": {},
   "outputs": [
    {
     "name": "stdout",
     "output_type": "stream",
     "text": [
      "Method #1..Dictionary A has now been updated by simply adding a key and it's value   : {1: 20}\n",
      "Method #2..New Dictionary B has been updated using .update() : {'A': '20', 'B': '30', 'c': '15'}\n"
     ]
    }
   ],
   "source": [
    "# Adding key to a dictionary\n",
    "\n",
    "# Dictionaries have keys and values\n",
    "\n",
    "# There are several ways in which you can add to dictionary\n",
    "# lt us explore\n",
    "\n",
    "#Method 1 \n",
    "\n",
    "dict_A = {} # dict_A is an empty dictionary\n",
    "dict_A[1] = 20 # we simply added a key, along with its value\n",
    "print('Method #1..Dictionary A has now been updated by simply adding a key and it\\'s value   :', dict_A)\n",
    "\n",
    "#Method 2\n",
    "\n",
    "dict_B = {'A':'20', 'B':'30'} # defining a new dictionary\n",
    "new_dict_B = dict_B.copy() # new_dict_B is a copy of dict_B \n",
    "\n",
    "\n",
    "# It is always nice to make a copy and then update the dictionary\n",
    "new_dict_B.update({'c':'15'})\n",
    "print('Method #2..New Dictionary B has been updated using .update() :',new_dict_B)\n",
    "\n",
    "# Note: There are more methods to add keys and values to dictionary"
   ]
  },
  {
   "cell_type": "code",
   "execution_count": 15,
   "metadata": {},
   "outputs": [
    {
     "name": "stdout",
     "output_type": "stream",
     "text": [
      "This student has got 367 out of 500\n"
     ]
    }
   ],
   "source": [
    "# Adding all numeric values in  dictionary\n",
    "#let us assume a dictionary containing subject names as keys\n",
    "#and marks gained as there value.\n",
    "\n",
    "Result = {'English':80, 'Math':90, 'Science':50,'Geography':70, 'Ethics':77}\n",
    "\n",
    "total = 0\n",
    "maximum_marks = 500\n",
    "\n",
    "for subject in Result.values():\n",
    "    total += subject\n",
    "    \n",
    "print(f\"This student has got {total} out of {maximum_marks}\")    "
   ]
  },
  {
   "cell_type": "code",
   "execution_count": 19,
   "metadata": {},
   "outputs": [
    {
     "name": "stdout",
     "output_type": "stream",
     "text": [
      "\n",
      "Just Found a Duplicate Entry {'Ammir'} at index : 0\n",
      "\n",
      "Just Found a Duplicate Entry {'Ammir'} at index : 1\n",
      "\n",
      "Just Found a Duplicate Entry {'Raja'} at index : 2\n",
      "\n",
      "Searching.......\n",
      "\n",
      "Searching.......\n",
      "\n",
      "Searching.......\n",
      "\n",
      "Searching.......\n",
      "\n",
      "Searching.......\n",
      "\n",
      "Searching.......\n",
      "\n",
      "Just Found a Duplicate Entry {'Asad'} at index : 9\n",
      "\n",
      "Just Found a Duplicate Entry {'Raja'} at index : 10\n",
      "\n",
      "Just Found a Duplicate Entry {'Asad'} at index : 11\n",
      "\n",
      "Searching.......\n",
      "\n",
      "Here is the list of duplicates found: ['Ammir', 'Ammir', 'Raja', 'Asad', 'Raja', 'Asad']\n",
      "\n",
      "Found 2 values of Ammir in the list\n",
      "\n",
      "Found 2 values of Raja in the list\n",
      "\n",
      "Found 2 values of Asad in the list\n"
     ]
    }
   ],
   "source": [
    "# Checking Duplicate Values in a list\n",
    "\n",
    "#Assume a list containing names of some pupils\n",
    "#This is small list but imagine a list of 1000 students\n",
    "\n",
    "Names = [\"Ammir\",\"Ammir\",\"Raja\", \"Haseeb\", \"Iftikhar\",\"Ismail\",\"Ishaq\", \"Javed\",\"Zubair\", \"Asad\", \"Raja\", \"Asad\",\"Zohaib\"]\n",
    "i = 0\n",
    "counter = 0\n",
    "duplicates = []\n",
    "\n",
    "for i,e in enumerate(Names):\n",
    "        if Names.count(e)> 1:\n",
    "            print('\\nJust Found a Duplicate Entry', {e}, 'at index :',Names.index(e, i))\n",
    "            duplicates.append(e)\n",
    "                \n",
    "        else:\n",
    "            print('\\nSearching.......')\n",
    "print('\\nHere is the list of duplicates found:', duplicates)\n",
    "x = 0\n",
    "for x in set(duplicates):\n",
    "    print(f'\\nFound {duplicates.count(x)} values of {x} in the list')\n",
    "            \n",
    "  \n",
    "        \n",
    "        \n",
    "        "
   ]
  },
  {
   "cell_type": "code",
   "execution_count": 18,
   "metadata": {},
   "outputs": [
    {
     "name": "stdout",
     "output_type": "stream",
     "text": [
      "Enter Marks in History :100\n",
      "{'English': 80, 'Math': 90, 'Science': 50, 'Geography': 70, 'Ethics': 77, 'History': 100}\n"
     ]
    }
   ],
   "source": [
    "#Finding key in dictionary\n",
    "#let us take a previous example\n",
    "\n",
    "Result = {'English':80, 'Math':90, 'Science':50,'Geography':70, 'Ethics':77}\n",
    "History = 'History' \n",
    "# Now we want know if History Marks exist in this dictionary\n",
    "\n",
    "if History in Result.keys():\n",
    "    print(Result[History])\n",
    "else:\n",
    "    Result[History]=int(input('Enter Marks in History :'))\n",
    "    print(Result)\n",
    "    \n"
   ]
  },
  {
   "cell_type": "code",
   "execution_count": null,
   "metadata": {
    "collapsed": true
   },
   "outputs": [],
   "source": []
  },
  {
   "cell_type": "code",
   "execution_count": null,
   "metadata": {
    "collapsed": true
   },
   "outputs": [],
   "source": []
  },
  {
   "cell_type": "code",
   "execution_count": null,
   "metadata": {
    "collapsed": true
   },
   "outputs": [],
   "source": []
  }
 ],
 "metadata": {
  "kernelspec": {
   "display_name": "Python 3",
   "language": "python",
   "name": "python3"
  }
 },
 "nbformat": 4,
 "nbformat_minor": 2
}
