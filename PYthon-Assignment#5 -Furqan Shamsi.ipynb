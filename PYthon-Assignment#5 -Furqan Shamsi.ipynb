{
 "cells": [
  {
   "cell_type": "markdown",
   "metadata": {},
   "source": [
    "# Assignment-5  Batch 2 - Core Python"
   ]
  },
  {
   "cell_type": "markdown",
   "metadata": {},
   "source": [
    "# Prepared by- Furqan Ahmed Shamsi   # Roll-No-PY01121"
   ]
  },
  {
   "cell_type": "code",
   "execution_count": 20,
   "metadata": {},
   "outputs": [
    {
     "name": "stdout",
     "output_type": "stream",
     "text": [
      "Please Enter a number to find factorial  :5\n",
      "\n",
      "The factorial of 5 ! is 120\n"
     ]
    }
   ],
   "source": [
    "# Factorial of a Number **n!\n",
    "number = int(input(\"Please Enter a number to find factorial  :\")) #Input Number\n",
    "factorial = 1 # initial value of factorial is set to minimum natural number\n",
    "\n",
    "if (number < 0) or (number == 0):\n",
    "        print(\"\\nPlease choose a Natural Number greater than Zero\")\n",
    "else:\n",
    "    for i in range(1,number + 1):\n",
    "        factorial = factorial*i\n",
    "        \n",
    "print(\"\\nThe factorial of\",number,\"!\",\"is\",factorial)\n",
    "\n"
   ]
  },
  {
   "cell_type": "code",
   "execution_count": 1,
   "metadata": {},
   "outputs": [
    {
     "name": "stdout",
     "output_type": "stream",
     "text": [
      "Please Enter a string value  :The Sly Fox\n",
      "The number of lowercase characters is: 6\n",
      "The number of uppercase characters is: 3\n"
     ]
    }
   ],
   "source": [
    "# Calculate Upper and Lower letters in a string\n",
    "\n",
    "string = input(\"Please Enter a string value  :\")\n",
    "\n",
    "count_upper = 0 #let count_upper be a variable that counts capital letters\n",
    "count_lower = 0 #Similarly let count_lower be a variable that small letters\n",
    "\n",
    "for i in string:#let i be a character in string\n",
    "    if(i.islower()):\n",
    "        count_lower+=1\n",
    "    elif(i.isupper()):#Simple logic check whether a character is Capital or Small\n",
    "        count_upper+=1#Simply sum up all capital and lower characters\n",
    "        \n",
    "print(\"The number of lowercase characters is:\",count_lower)\n",
    "print(\"The number of uppercase characters is:\",count_upper)\n",
    "\n",
    "\n",
    "\n",
    "\n",
    "\n"
   ]
  },
  {
   "cell_type": "code",
   "execution_count": 18,
   "metadata": {},
   "outputs": [
    {
     "name": "stdout",
     "output_type": "stream",
     "text": [
      "How long the list should be :\t6\n",
      "Please Enter a Natural Number :2\n",
      "Please Enter a Natural Number :3\n",
      "Please Enter a Natural Number :4\n",
      "Please Enter a Natural Number :5\n",
      "Please Enter a Natural Number :6\n",
      "Please Enter a Natural Number :7\n",
      "This is the list of Natural numbers you created [2, 3, 4, 5, 6, 7]\n",
      "Now Finding Even and Odd Numbers ......\n",
      "Even lists: [2, 4, 6]\n",
      "Odd lists: [3, 5, 7]\n"
     ]
    }
   ],
   "source": [
    "#Check Even or Odd in a list via function\n",
    "# define a function to add Even or Odd values to their respective listlist_ =[]\n",
    "list_=[]  #define an empty list\n",
    "_even = [] #let _even be a list of all even number--intializing the list\n",
    "_odd = []#let _odd be a list of all odd numbers--initializing the list\n",
    "\n",
    "def check_even_odd(X): #define a function that would accept a list of natural numbers as parameter\n",
    "    for i in X: \n",
    "        if (i % 2 == 0): # If a number is divisible by 2, with 0 remainder\n",
    "            _even.append(i) \n",
    "        else: \n",
    "            _odd.append(i) #adding to list\n",
    "\n",
    "\n",
    "# Code starts here\n",
    " \n",
    "\n",
    "size =int(input(\"How long the list should be :\\t\")) # user has choice to define length of a list\n",
    "for i in range(size):\n",
    "    number  = input(\"Please Enter a Natural Number :\")\n",
    "    if number.isnumeric() == True: # By default input is a string value, more over it could be numeric\n",
    "        list_.append(int(number))  #or otherwise.If value is numeric add to the list.  \n",
    "    else:\n",
    "        print(\"\\nThis is not a Natural number, hence would not be added to the list\")\n",
    "        continue #What if the input is not a natural number\n",
    "        \n",
    "print('This is the list of Natural numbers you created',list_)\n",
    "print('Now Finding Even and Odd Numbers ......')\n",
    "\n",
    "X = list_\n",
    "check_even_odd(X) #Calling the function\n",
    "print(\"Even lists:\", _even) \n",
    "print(\"Odd lists:\", _odd)   \n"
   ]
  },
  {
   "cell_type": "code",
   "execution_count": 8,
   "metadata": {},
   "outputs": [
    {
     "name": "stdout",
     "output_type": "stream",
     "text": [
      "Please Enter a String :mem\n",
      "This is a palindrome\n"
     ]
    }
   ],
   "source": [
    "#palindrome in python\n",
    "#Any string could be palindrome if the reverse of that string is same e.g bob\n",
    "\n",
    "def palindrome(S): #define a function that takes a string value as parameter\n",
    "    if S.upper() == S[::-1].upper(): #note I have used .upper() to convert both string and it's inverse \n",
    "        print(f'This is a palindrome')#to uppercase. This is because technically Bob != boB \n",
    "    else:\n",
    "        print(\"Sorry! better luck next time\")\n",
    "        \n",
    "        \n",
    "        \n",
    "S = input('Please Enter a String :')\n",
    "palindrome(S)\n",
    "    "
   ]
  },
  {
   "cell_type": "code",
   "execution_count": 8,
   "metadata": {},
   "outputs": [
    {
     "name": "stdout",
     "output_type": "stream",
     "text": [
      "Please Enter a number of Your Choice :78\n"
     ]
    },
    {
     "data": {
      "text/plain": [
       "False"
      ]
     },
     "execution_count": 8,
     "metadata": {},
     "output_type": "execute_result"
    }
   ],
   "source": [
    "#Prime Numbers\n",
    "# A Prime Number is Number that is only divisble by 1 and itself. However we donot count 1 as a prime number\n",
    "\n",
    "def is_Prime(n): \n",
    "    if n <= 1: \n",
    "        return False\n",
    "    for i in range(2,n): \n",
    "        if n % i == 0: \n",
    "            return False\n",
    "    return True\n",
    "\n",
    "n= int(input(\"Please Enter a number of Your Choice :\"))\n",
    "\n",
    "is_Prime(n)\n",
    "               \n",
    "                \n",
    "#Note: There might be more methods to determine a prime number          \n",
    "                \n",
    "                \n",
    "          \n",
    "    \n",
    "        "
   ]
  },
  {
   "cell_type": "code",
   "execution_count": 1,
   "metadata": {},
   "outputs": [
    {
     "name": "stdout",
     "output_type": "stream",
     "text": [
      "Do You want to Continue y/n :y\n",
      "Please Enter Item :Potatoes\n",
      "Please Enter Quantity :10\n",
      "Please Enter Price :45\n",
      "Do You want to Continue y/n :n\n",
      "Potatoes  45.0  10  450.0  \n",
      "*********Thank You.**********\n",
      " \t***Good Bye***\n"
     ]
    }
   ],
   "source": [
    "#Invoice-Billing Details\n",
    "\n",
    "\n",
    "def addItem():\n",
    "    Item_desc ={\"item\":[],\"price\":[],\"quantity\":[],\"total\":[]}\n",
    "    while True:\n",
    "        choice = input(\"Do You want to Continue y/n :\")\n",
    "        if choice in [\"y\",\"Y\"]:\n",
    "            Item = input(\"Please Enter Item :\")\n",
    "            Item_desc[\"item\"].append(Item)\n",
    "            \n",
    "            Quantity = int(input(\"Please Enter Quantity :\"))\n",
    "            Item_desc[\"quantity\"].append(Quantity)\n",
    "\n",
    "            Price = float(input(\"Please Enter Price :\"))\n",
    "            Item_desc[\"price\"].append(Price)\n",
    "            \n",
    "            Total = Quantity * Price\n",
    "            Item_desc[\"total\"].append(Total)        \n",
    "        \n",
    "                       \n",
    "        else:\n",
    "            \n",
    "            for i in Item_desc.values():\n",
    "                for j in range(len(i)):\n",
    "                    print(i[j],end='  ')\n",
    "                    \n",
    "\n",
    "           # print(\"\\n Your Total amount of Bill is  :\", Grand_total)\n",
    "            print(\"\\n*********Thank You.**********\\n \\t***Good Bye***\")\n",
    "            break\n",
    "            \n",
    "addItem()            \n",
    "    "
   ]
  },
  {
   "cell_type": "code",
   "execution_count": null,
   "metadata": {
    "collapsed": true
   },
   "outputs": [],
   "source": []
  },
  {
   "cell_type": "code",
   "execution_count": null,
   "metadata": {
    "collapsed": true
   },
   "outputs": [],
   "source": []
  },
  {
   "cell_type": "code",
   "execution_count": null,
   "metadata": {
    "collapsed": true
   },
   "outputs": [],
   "source": []
  },
  {
   "cell_type": "markdown",
   "metadata": {},
   "source": []
  },
  {
   "cell_type": "markdown",
   "metadata": {
    "collapsed": true
   },
   "source": []
  }
 ],
 "metadata": {
  "kernelspec": {
   "display_name": "Python 3",
   "language": "python",
   "name": "python3"
  },
  "language_info": {
   "codemirror_mode": {
    "name": "ipython",
    "version": 3
   },
   "file_extension": ".py",
   "mimetype": "text/x-python",
   "name": "python",
   "nbconvert_exporter": "python",
   "pygments_lexer": "ipython3",
   "version": "3.6.3"
  }
 },
 "nbformat": 4,
 "nbformat_minor": 2
}
