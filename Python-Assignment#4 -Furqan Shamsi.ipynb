{
 "cells": [
  {
   "cell_type": "markdown",
   "metadata": {},
   "source": [
    "# Assignment-4  Batch 2 - Core Python"
   ]
  },
  {
   "cell_type": "markdown",
   "metadata": {},
   "source": [
    "# Prepared by- Furqan Ahmed Shamsi   # Roll-No-PY01121"
   ]
  },
  {
   "cell_type": "code",
   "execution_count": 3,
   "metadata": {},
   "outputs": [
    {
     "name": "stdout",
     "output_type": "stream",
     "text": [
      "Please Enter the First_Name  :Furqan\n",
      "Please Enter the Last_Name :Shamsi\n",
      "Please Enter the Age :45\n",
      "Qualification is already assigned to Graduate...\n",
      "Do you wish to update this information..........Press(y) to update:\ty\n",
      "Please Update Qualification.....:PhD\n",
      "\n",
      "Furqan\tShamsi, aged 45 is a PhD\n",
      "\n",
      "Deleting Qualification Record from the Dictionary...\n",
      "{'First_Name': 'Furqan', 'Last_Name': 'Shamsi', 'Age': 45}\n"
     ]
    }
   ],
   "source": [
    "#Personal Information/Data Collection using Dictionairies\n",
    "#let Personal_Data be a dictionary that stores information about People\n",
    "#First step is define an empty dictionary\n",
    "\n",
    "Personal_Data = {}\n",
    "\n",
    "#Now we want to populate this Dictionary\n",
    "#It should have the first Name, Last Name\n",
    "#Age, City(of Residence), and lastly we want to update this Info with Qualification\n",
    "#Defining the Variables\n",
    "First_Name = 'First_Name'\n",
    "Last_Name = \"Last_Name\"\n",
    "Age = \"Age\"\n",
    "Qualification = 'Qualification'\n",
    "\n",
    "Personal_Data[First_Name] = str(input(\"Please Enter the First_Name  :\"))\n",
    "Personal_Data[Last_Name] = str(input(\"Please Enter the Last_Name :\"))\n",
    "Personal_Data[Age] = int(input(\"Please Enter the Age :\"))\n",
    "Personal_Data[Qualification]=\"Graduate\"\n",
    "\n",
    "if Qualification in Personal_Data.keys():\n",
    "    print(\"Qualification is already assigned to Graduate...\")\n",
    "    choice = input(\"Do you wish to update this information..........Press(y) to update:\\t\")\n",
    "    if choice == \"y\":\n",
    "        Personal_Data['Qualification']= input(\"Please Update Qualification.....:\")\n",
    "    else:\n",
    "        print(\"Aborting!........\")\n",
    "          \n",
    "    \n",
    "else:\n",
    "  #  update(Personal_Data[Qualification]) = input('Update Qualfication:')\n",
    "    print(\"You chose not to update Qualification.....\")\n",
    "\n",
    "\n",
    "print(f'\\n{Personal_Data[First_Name]}\\t{Personal_Data[Last_Name]}, aged {Personal_Data[Age]} is a {Personal_Data[Qualification]}')\n",
    "print(\"\\nDeleting Qualification Record from the Dictionary...\")\n",
    "del Personal_Data['Qualification']\n",
    "print(Personal_Data)"
   ]
  },
  {
   "cell_type": "code",
   "execution_count": 4,
   "metadata": {},
   "outputs": [
    {
     "name": "stdout",
     "output_type": "stream",
     "text": [
      "{'Karachi': {'Population': 20000000, 'Country': 'Pakistan', 'Comments': 'largest city of Pakistan'}, 'Lahore': {'Population': 10000000, 'Country': 'Pakistan', 'Comments': 'Second largest city of Pakistan'}, 'Islamabad': {'Population': 3500000, 'Country': 'Pakistan', 'Comments': 'Capital city of Pakistan'}} \n",
      "\n",
      "Karachi Statistics  : {'Population': 20000000, 'Country': 'Pakistan', 'Comments': 'largest city of Pakistan'} \n",
      "\n",
      "The Population of Islamabad is : 3500000 \n",
      "\n",
      "('Karachi', {'Population': 20000000, 'Country': 'Pakistan', 'Comments': 'largest city of Pakistan'}) \n",
      "\n",
      "('Lahore', {'Population': 10000000, 'Country': 'Pakistan', 'Comments': 'Second largest city of Pakistan'}) \n",
      "\n",
      "('Islamabad', {'Population': 3500000, 'Country': 'Pakistan', 'Comments': 'Capital city of Pakistan'}) \n",
      "\n"
     ]
    }
   ],
   "source": [
    "#Cities\n",
    "\n",
    "Cities = {\"Karachi\":{'Population':20000000,'Country':'Pakistan','Comments':'largest city of Pakistan'},\\\n",
    "          \"Lahore\": {'Population':10000000,'Country':'Pakistan','Comments':'Second largest city of Pakistan'},\\\n",
    "          \"Islamabad\":{'Population':3500000,'Country':'Pakistan','Comments':'Capital city of Pakistan'}}\n",
    "\n",
    "#Printing the whole dictionary\n",
    "print(Cities, '\\n')\n",
    "\n",
    "#Printing the record of a single city(karachi)\n",
    "print('Karachi Statistics  :',Cities['Karachi'],'\\n')\n",
    "\n",
    "#Printing/Retrieving the record of a certain key e.g. population of Islamabad\n",
    "print('The Population of Islamabad is :',Cities['Islamabad']['Population'],'\\n')\n",
    "\n",
    "#Retriving City Information through a loop\n",
    "for City in Cities.items():\n",
    "    print(City,'\\n')\n",
    "    \n",
    "    \n",
    "\n",
    "\n"
   ]
  },
  {
   "cell_type": "code",
   "execution_count": 12,
   "metadata": {},
   "outputs": [
    {
     "name": "stdout",
     "output_type": "stream",
     "text": [
      "\n",
      "Please give me your age :3\n",
      "\n",
      "\tTicket_No# 1\n",
      "\n",
      "\t************\n",
      "\n",
      " Hey! Your Ticket cost is : 10\n",
      "\n",
      "Please give me your age :1\n",
      "\n",
      " Hey! Your Ticket cost is : Free!\n",
      "\n",
      "Please give me your age :34\n",
      "\n",
      "\tTicket_No# 2\n",
      "\n",
      "\t************\n",
      "\n",
      " Hey! Your Ticket cost is : 15\n",
      "\n",
      "Please give me your age :23\n",
      "\n",
      "\tTicket_No# 3\n",
      "\n",
      "\t************\n",
      "\n",
      " Hey! Your Ticket cost is : 15\n",
      "\n",
      "Please give me your age :12\n",
      "\n",
      "\tTicket_No# 4\n",
      "\n",
      "\t************\n",
      "\n",
      " Hey! Your Ticket cost is : 15\n",
      "\n",
      "Please give me your age :6\n",
      "\n",
      "\tTicket_No# 5\n",
      "\n",
      "\t************\n",
      "\n",
      " Hey! Your Ticket cost is : 10\n",
      "\n",
      "Please give me your age :4\n",
      "\n",
      "\tTicket_No# 6\n",
      "\n",
      "\t************\n",
      "\n",
      " Hey! Your Ticket cost is : 10\n",
      "\n",
      "Please give me your age :3\n",
      "\n",
      "\tTicket_No# 7\n",
      "\n",
      "\t************\n",
      "\n",
      " Hey! Your Ticket cost is : 10\n",
      "\n",
      "Please give me your age :2\n",
      "\n",
      " Hey! Your Ticket cost is : Free!\n",
      "\n",
      "Please give me your age :70\n",
      "\n",
      "\tTicket_No# 8\n",
      "\n",
      "\t************\n",
      "\n",
      " Hey! Your Ticket cost is : 15\n",
      "\n",
      "Please give me your age :4\n",
      "\n",
      "\tTicket_No# 9\n",
      "\n",
      "\t************\n",
      "\n",
      " Hey! Your Ticket cost is : 10\n"
     ]
    }
   ],
   "source": [
    "#Ticket Booking App\n",
    "\n",
    "Ticket_No = 000\n",
    "Age = 0\n",
    "Ticket_Price = float\n",
    "Message = 'Hey! Your Ticket cost is :'\n",
    "Counter = 0\n",
    "\n",
    "def p():\n",
    "    print('\\n\\tTicket_No#',Ticket_No)\n",
    "    print('\\n\\t************')\n",
    "    print('\\n',Message,Ticket_Price)\n",
    "    \n",
    "    \n",
    "\n",
    "\n",
    "while Counter < 11: # We donot want an infinite loop for this assignment let us break the loop when counter = 10\n",
    "    \n",
    "    Counter +=  1 \n",
    "    \n",
    "    Age = int(input(\"\\nPlease give me your age :\"))\n",
    "    # checking condition\n",
    "    if Age < 3:\n",
    "        print('\\n',Message,'Free!') \n",
    "        \n",
    "    elif Age >= 3 and Age < 12:\n",
    "        Ticket_Price = 10\n",
    "        Ticket_No += 1\n",
    "        p()\n",
    "        \n",
    "    else:\n",
    "        Age >= 12\n",
    "        Ticket_Price = 15\n",
    "        Ticket_No += 1\n",
    "        p()\n",
    "        \n",
    "        \n",
    "        \n",
    "        \n",
    "        \n",
    "    \n",
    "    "
   ]
  },
  {
   "cell_type": "code",
   "execution_count": 20,
   "metadata": {},
   "outputs": [
    {
     "name": "stdout",
     "output_type": "stream",
     "text": [
      "What is Your favourite book?   Data-Analysis with Python\n",
      "\n",
      "One of My favourite book is Data-Analysis with Python\n",
      "\n",
      "One of My favourite book is : {'Data-Analysis with Python'}\n"
     ]
    }
   ],
   "source": [
    "#Favourite_Book\n",
    "\n",
    "def favourite_book(title):\n",
    "    print('\\nOne of My favourite book is',title)\n",
    "    print('\\nOne of My favourite book is :',{title})\n",
    "    \n",
    "title = input('What is Your favourite book?   ')\n",
    "\n",
    "favourite_book(title)"
   ]
  },
  {
   "cell_type": "code",
   "execution_count": 31,
   "metadata": {},
   "outputs": [
    {
     "name": "stdout",
     "output_type": "stream",
     "text": [
      "\n",
      "Please make guess [1-30]: 10\n",
      "Your guess is low ,Good luck next time!\n",
      "\n",
      "Please make guess [1-30]: 20\n",
      "Your guess is high, Better luck next time!\n",
      "\n",
      "Please make guess [1-30]: 17\n",
      "Your guess is high, Better luck next time!\n",
      "\n",
      "Correct Answer is 15\n"
     ]
    }
   ],
   "source": [
    "#Guess the number\n",
    "\n",
    "import random\n",
    " \n",
    "number = random.randint(1, 30) # I want to use the min and max values so I am using Randint()\n",
    "                               # You could also use randrange()\n",
    "\n",
    "for i in range(1,4):\n",
    "    \n",
    "    guess = int(input(\"\\nPlease make guess [1-30]: \"))\n",
    "\n",
    "    if guess == number:\n",
    "        print(\"Wow! You made the right guess\")\n",
    "        break\n",
    "\n",
    "    elif guess < number:\n",
    "        print(\"Your guess is low ,Good luck next time!\")\n",
    "        continue\n",
    "    else:\n",
    "        guess > number\n",
    "        print(\"Your guess is high, Better luck next time!\")\n",
    "        continue\n",
    "        \n",
    "print(\"\\nCorrect Answer is\", number)        "
   ]
  },
  {
   "cell_type": "code",
   "execution_count": null,
   "metadata": {
    "collapsed": true
   },
   "outputs": [],
   "source": []
  }
 ],
 "metadata": {
  "kernelspec": {
   "display_name": "Python 3",
   "language": "python",
   "name": "python3"
  },
  "language_info": {
   "codemirror_mode": {
    "name": "ipython",
    "version": 3
   },
   "file_extension": ".py",
   "mimetype": "text/x-python",
   "name": "python",
   "nbconvert_exporter": "python",
   "pygments_lexer": "ipython3",
   "version": "3.6.3"
  }
 },
 "nbformat": 4,
 "nbformat_minor": 2
}
